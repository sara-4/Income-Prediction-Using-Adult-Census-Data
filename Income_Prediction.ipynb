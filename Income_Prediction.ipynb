{
 "cells": [
  {
   "cell_type": "markdown",
   "metadata": {},
   "source": [
    "# Income Prediction Using Adult Census Data"
   ]
  },
  {
   "cell_type": "markdown",
   "metadata": {},
   "source": [
    "The dataset is of a census conducted on adult citizens. Data Exploration is performed to understand the features better and the prediction task is to determine whether an individual's income is above 50k or no by using the relevant features."
   ]
  },
  {
   "cell_type": "code",
   "execution_count": 1,
   "metadata": {},
   "outputs": [],
   "source": [
    "import numpy as np \n",
    "import pandas as pd\n",
    "import matplotlib.pyplot as plt\n",
    "import seaborn as sns\n",
    "import warnings\n",
    "warnings.filterwarnings('ignore')"
   ]
  },
  {
   "cell_type": "code",
   "execution_count": 2,
   "metadata": {},
   "outputs": [
    {
     "data": {
      "text/html": [
       "<div>\n",
       "<style scoped>\n",
       "    .dataframe tbody tr th:only-of-type {\n",
       "        vertical-align: middle;\n",
       "    }\n",
       "\n",
       "    .dataframe tbody tr th {\n",
       "        vertical-align: top;\n",
       "    }\n",
       "\n",
       "    .dataframe thead th {\n",
       "        text-align: right;\n",
       "    }\n",
       "</style>\n",
       "<table border=\"1\" class=\"dataframe\">\n",
       "  <thead>\n",
       "    <tr style=\"text-align: right;\">\n",
       "      <th></th>\n",
       "      <th>age</th>\n",
       "      <th>workclass</th>\n",
       "      <th>fnlwgt</th>\n",
       "      <th>education</th>\n",
       "      <th>education.num</th>\n",
       "      <th>marital.status</th>\n",
       "      <th>occupation</th>\n",
       "      <th>relationship</th>\n",
       "      <th>race</th>\n",
       "      <th>sex</th>\n",
       "      <th>capital.gain</th>\n",
       "      <th>capital.loss</th>\n",
       "      <th>hours.per.week</th>\n",
       "      <th>native.country</th>\n",
       "      <th>income</th>\n",
       "    </tr>\n",
       "  </thead>\n",
       "  <tbody>\n",
       "    <tr>\n",
       "      <th>0</th>\n",
       "      <td>90</td>\n",
       "      <td>?</td>\n",
       "      <td>77053</td>\n",
       "      <td>HS-grad</td>\n",
       "      <td>9</td>\n",
       "      <td>Widowed</td>\n",
       "      <td>?</td>\n",
       "      <td>Not-in-family</td>\n",
       "      <td>White</td>\n",
       "      <td>Female</td>\n",
       "      <td>0</td>\n",
       "      <td>4356</td>\n",
       "      <td>40</td>\n",
       "      <td>United-States</td>\n",
       "      <td>&lt;=50K</td>\n",
       "    </tr>\n",
       "    <tr>\n",
       "      <th>1</th>\n",
       "      <td>82</td>\n",
       "      <td>Private</td>\n",
       "      <td>132870</td>\n",
       "      <td>HS-grad</td>\n",
       "      <td>9</td>\n",
       "      <td>Widowed</td>\n",
       "      <td>Exec-managerial</td>\n",
       "      <td>Not-in-family</td>\n",
       "      <td>White</td>\n",
       "      <td>Female</td>\n",
       "      <td>0</td>\n",
       "      <td>4356</td>\n",
       "      <td>18</td>\n",
       "      <td>United-States</td>\n",
       "      <td>&lt;=50K</td>\n",
       "    </tr>\n",
       "    <tr>\n",
       "      <th>2</th>\n",
       "      <td>66</td>\n",
       "      <td>?</td>\n",
       "      <td>186061</td>\n",
       "      <td>Some-college</td>\n",
       "      <td>10</td>\n",
       "      <td>Widowed</td>\n",
       "      <td>?</td>\n",
       "      <td>Unmarried</td>\n",
       "      <td>Black</td>\n",
       "      <td>Female</td>\n",
       "      <td>0</td>\n",
       "      <td>4356</td>\n",
       "      <td>40</td>\n",
       "      <td>United-States</td>\n",
       "      <td>&lt;=50K</td>\n",
       "    </tr>\n",
       "    <tr>\n",
       "      <th>3</th>\n",
       "      <td>54</td>\n",
       "      <td>Private</td>\n",
       "      <td>140359</td>\n",
       "      <td>7th-8th</td>\n",
       "      <td>4</td>\n",
       "      <td>Divorced</td>\n",
       "      <td>Machine-op-inspct</td>\n",
       "      <td>Unmarried</td>\n",
       "      <td>White</td>\n",
       "      <td>Female</td>\n",
       "      <td>0</td>\n",
       "      <td>3900</td>\n",
       "      <td>40</td>\n",
       "      <td>United-States</td>\n",
       "      <td>&lt;=50K</td>\n",
       "    </tr>\n",
       "    <tr>\n",
       "      <th>4</th>\n",
       "      <td>41</td>\n",
       "      <td>Private</td>\n",
       "      <td>264663</td>\n",
       "      <td>Some-college</td>\n",
       "      <td>10</td>\n",
       "      <td>Separated</td>\n",
       "      <td>Prof-specialty</td>\n",
       "      <td>Own-child</td>\n",
       "      <td>White</td>\n",
       "      <td>Female</td>\n",
       "      <td>0</td>\n",
       "      <td>3900</td>\n",
       "      <td>40</td>\n",
       "      <td>United-States</td>\n",
       "      <td>&lt;=50K</td>\n",
       "    </tr>\n",
       "  </tbody>\n",
       "</table>\n",
       "</div>"
      ],
      "text/plain": [
       "   age workclass  fnlwgt     education  education.num marital.status  \\\n",
       "0   90         ?   77053       HS-grad              9        Widowed   \n",
       "1   82   Private  132870       HS-grad              9        Widowed   \n",
       "2   66         ?  186061  Some-college             10        Widowed   \n",
       "3   54   Private  140359       7th-8th              4       Divorced   \n",
       "4   41   Private  264663  Some-college             10      Separated   \n",
       "\n",
       "          occupation   relationship   race     sex  capital.gain  \\\n",
       "0                  ?  Not-in-family  White  Female             0   \n",
       "1    Exec-managerial  Not-in-family  White  Female             0   \n",
       "2                  ?      Unmarried  Black  Female             0   \n",
       "3  Machine-op-inspct      Unmarried  White  Female             0   \n",
       "4     Prof-specialty      Own-child  White  Female             0   \n",
       "\n",
       "   capital.loss  hours.per.week native.country income  \n",
       "0          4356              40  United-States  <=50K  \n",
       "1          4356              18  United-States  <=50K  \n",
       "2          4356              40  United-States  <=50K  \n",
       "3          3900              40  United-States  <=50K  \n",
       "4          3900              40  United-States  <=50K  "
      ]
     },
     "execution_count": 2,
     "metadata": {},
     "output_type": "execute_result"
    }
   ],
   "source": [
    "data=pd.read_csv('adult.csv')\n",
    "data.head() #gives first 5 rows in the dataset"
   ]
  },
  {
   "cell_type": "code",
   "execution_count": 3,
   "metadata": {},
   "outputs": [
    {
     "data": {
      "text/plain": [
       "(32561, 15)"
      ]
     },
     "execution_count": 3,
     "metadata": {},
     "output_type": "execute_result"
    }
   ],
   "source": [
    "data.shape # gives no. of rows and columns"
   ]
  },
  {
   "cell_type": "code",
   "execution_count": 4,
   "metadata": {},
   "outputs": [
    {
     "name": "stdout",
     "output_type": "stream",
     "text": [
      "<class 'pandas.core.frame.DataFrame'>\n",
      "RangeIndex: 32561 entries, 0 to 32560\n",
      "Data columns (total 15 columns):\n",
      " #   Column          Non-Null Count  Dtype \n",
      "---  ------          --------------  ----- \n",
      " 0   age             32561 non-null  int64 \n",
      " 1   workclass       32561 non-null  object\n",
      " 2   fnlwgt          32561 non-null  int64 \n",
      " 3   education       32561 non-null  object\n",
      " 4   education.num   32561 non-null  int64 \n",
      " 5   marital.status  32561 non-null  object\n",
      " 6   occupation      32561 non-null  object\n",
      " 7   relationship    32561 non-null  object\n",
      " 8   race            32561 non-null  object\n",
      " 9   sex             32561 non-null  object\n",
      " 10  capital.gain    32561 non-null  int64 \n",
      " 11  capital.loss    32561 non-null  int64 \n",
      " 12  hours.per.week  32561 non-null  int64 \n",
      " 13  native.country  32561 non-null  object\n",
      " 14  income          32561 non-null  object\n",
      "dtypes: int64(6), object(9)\n",
      "memory usage: 3.7+ MB\n"
     ]
    }
   ],
   "source": [
    "data.info() # gives info of columns"
   ]
  },
  {
   "cell_type": "code",
   "execution_count": 5,
   "metadata": {},
   "outputs": [
    {
     "data": {
      "text/plain": [
       "age               0\n",
       "workclass         0\n",
       "fnlwgt            0\n",
       "education         0\n",
       "education.num     0\n",
       "marital.status    0\n",
       "occupation        0\n",
       "relationship      0\n",
       "race              0\n",
       "sex               0\n",
       "capital.gain      0\n",
       "capital.loss      0\n",
       "hours.per.week    0\n",
       "native.country    0\n",
       "income            0\n",
       "dtype: int64"
      ]
     },
     "execution_count": 5,
     "metadata": {},
     "output_type": "execute_result"
    }
   ],
   "source": [
    "data.isnull().sum() "
   ]
  },
  {
   "cell_type": "code",
   "execution_count": 6,
   "metadata": {},
   "outputs": [
    {
     "data": {
      "text/html": [
       "<div>\n",
       "<style scoped>\n",
       "    .dataframe tbody tr th:only-of-type {\n",
       "        vertical-align: middle;\n",
       "    }\n",
       "\n",
       "    .dataframe tbody tr th {\n",
       "        vertical-align: top;\n",
       "    }\n",
       "\n",
       "    .dataframe thead th {\n",
       "        text-align: right;\n",
       "    }\n",
       "</style>\n",
       "<table border=\"1\" class=\"dataframe\">\n",
       "  <thead>\n",
       "    <tr style=\"text-align: right;\">\n",
       "      <th></th>\n",
       "      <th>workclass</th>\n",
       "      <th>education</th>\n",
       "      <th>marital.status</th>\n",
       "      <th>occupation</th>\n",
       "      <th>relationship</th>\n",
       "      <th>race</th>\n",
       "      <th>sex</th>\n",
       "      <th>native.country</th>\n",
       "      <th>income</th>\n",
       "    </tr>\n",
       "  </thead>\n",
       "  <tbody>\n",
       "    <tr>\n",
       "      <th>count</th>\n",
       "      <td>32561</td>\n",
       "      <td>32561</td>\n",
       "      <td>32561</td>\n",
       "      <td>32561</td>\n",
       "      <td>32561</td>\n",
       "      <td>32561</td>\n",
       "      <td>32561</td>\n",
       "      <td>32561</td>\n",
       "      <td>32561</td>\n",
       "    </tr>\n",
       "    <tr>\n",
       "      <th>unique</th>\n",
       "      <td>9</td>\n",
       "      <td>16</td>\n",
       "      <td>7</td>\n",
       "      <td>15</td>\n",
       "      <td>6</td>\n",
       "      <td>5</td>\n",
       "      <td>2</td>\n",
       "      <td>42</td>\n",
       "      <td>2</td>\n",
       "    </tr>\n",
       "    <tr>\n",
       "      <th>top</th>\n",
       "      <td>Private</td>\n",
       "      <td>HS-grad</td>\n",
       "      <td>Married-civ-spouse</td>\n",
       "      <td>Prof-specialty</td>\n",
       "      <td>Husband</td>\n",
       "      <td>White</td>\n",
       "      <td>Male</td>\n",
       "      <td>United-States</td>\n",
       "      <td>&lt;=50K</td>\n",
       "    </tr>\n",
       "    <tr>\n",
       "      <th>freq</th>\n",
       "      <td>22696</td>\n",
       "      <td>10501</td>\n",
       "      <td>14976</td>\n",
       "      <td>4140</td>\n",
       "      <td>13193</td>\n",
       "      <td>27816</td>\n",
       "      <td>21790</td>\n",
       "      <td>29170</td>\n",
       "      <td>24720</td>\n",
       "    </tr>\n",
       "  </tbody>\n",
       "</table>\n",
       "</div>"
      ],
      "text/plain": [
       "       workclass education      marital.status      occupation relationship  \\\n",
       "count      32561     32561               32561           32561        32561   \n",
       "unique         9        16                   7              15            6   \n",
       "top      Private   HS-grad  Married-civ-spouse  Prof-specialty      Husband   \n",
       "freq       22696     10501               14976            4140        13193   \n",
       "\n",
       "         race    sex native.country income  \n",
       "count   32561  32561          32561  32561  \n",
       "unique      5      2             42      2  \n",
       "top     White   Male  United-States  <=50K  \n",
       "freq    27816  21790          29170  24720  "
      ]
     },
     "execution_count": 6,
     "metadata": {},
     "output_type": "execute_result"
    }
   ],
   "source": [
    "data.describe(include=[\"O\"]) #describes attributes having string data"
   ]
  },
  {
   "cell_type": "markdown",
   "metadata": {},
   "source": [
    "### DATA CLEANING & EXPLORATION"
   ]
  },
  {
   "cell_type": "markdown",
   "metadata": {},
   "source": [
    "WORKING WITH EACH ATTRIBUTE"
   ]
  },
  {
   "cell_type": "markdown",
   "metadata": {},
   "source": [
    "##### For target attribute 'income'"
   ]
  },
  {
   "cell_type": "code",
   "execution_count": 7,
   "metadata": {},
   "outputs": [
    {
     "name": "stdout",
     "output_type": "stream",
     "text": [
      "Target: 'Income'\n",
      "Unique Values in Income: ['<=50K' '>50K']\n",
      "Number of unique values: 2\n"
     ]
    }
   ],
   "source": [
    "print(f\"Target: 'Income'\\nUnique Values in Income: {data.income.unique()}\\nNumber of unique values: {data.income.nunique()}\")"
   ]
  },
  {
   "cell_type": "code",
   "execution_count": 8,
   "metadata": {},
   "outputs": [
    {
     "data": {
      "image/png": "[encoded data removed]",
      "text/plain": [
       "<Figure size 432x288 with 1 Axes>"
      ]
     },
     "metadata": {
      "needs_background": "light"
     },
     "output_type": "display_data"
    }
   ],
   "source": [
    "# Visualizing the target variable for checking whether the dataset is imbalanced or not\n",
    "data.income.value_counts().plot(kind='bar', color='lightblue')\n",
    "plt.show()"
   ]
  },
  {
   "cell_type": "markdown",
   "metadata": {},
   "source": [
    "In the problem, 'Income' is the Target variable. The prediction we perform will be in terms of only two values, which are either the income is greater than 50K > \"1\", or the income is less than or equal to 50K > \"0\". So we will label encode the target variable."
   ]
  },
  {
   "cell_type": "code",
   "execution_count": 9,
   "metadata": {},
   "outputs": [],
   "source": [
    "data['income'] = data['income'].str.replace('>50K', '1')\n",
    "data['income'] = data['income'].str.replace('<=50K', '0')\n",
    "data['income'] = data['income'].astype(np.int64)"
   ]
  },
  {
   "cell_type": "code",
   "execution_count": 10,
   "metadata": {},
   "outputs": [],
   "source": [
    "df=data.copy()"
   ]
  },
  {
   "cell_type": "markdown",
   "metadata": {},
   "source": [
    "##### For Education and Education.num attributes"
   ]
  },
  {
   "cell_type": "code",
   "execution_count": 11,
   "metadata": {},
   "outputs": [
    {
     "name": "stdout",
     "output_type": "stream",
     "text": [
      "Unique values in 'Education': 16\n",
      "Unique values in 'Education_num': 16\n"
     ]
    }
   ],
   "source": [
    "print(f\"Unique values in 'Education': {df.education.nunique()}\\nUnique values in 'Education_num': {df['education.num'].nunique()}\")"
   ]
  },
  {
   "cell_type": "markdown",
   "metadata": {},
   "source": [
    "The values in 'Education' are already encoded in 'Education_num'. Thus, we drop the feature 'Education'."
   ]
  },
  {
   "cell_type": "code",
   "execution_count": 12,
   "metadata": {},
   "outputs": [],
   "source": [
    "df.drop(['education'], axis = 1, inplace = True)"
   ]
  },
  {
   "cell_type": "code",
   "execution_count": 13,
   "metadata": {},
   "outputs": [
    {
     "data": {
      "image/png": "[encoded data removed]",
      "text/plain": [
       "<Figure size 432x288 with 2 Axes>"
      ]
     },
     "metadata": {
      "needs_background": "light"
     },
     "output_type": "display_data"
    }
   ],
   "source": [
    "plt.title(\"Null values in the data\", fontsize = 12)\n",
    "sns.heatmap(df.isnull(), cmap = 'inferno')\n",
    "plt.show()"
   ]
  },
  {
   "cell_type": "markdown",
   "metadata": {},
   "source": [
    "##### For Workclass attribute"
   ]
  },
  {
   "cell_type": "code",
   "execution_count": 14,
   "metadata": {},
   "outputs": [
    {
     "data": {
      "text/plain": [
       "Private             22696\n",
       "Self-emp-not-inc     2541\n",
       "Local-gov            2093\n",
       "?                    1836\n",
       "State-gov            1298\n",
       "Self-emp-inc         1116\n",
       "Federal-gov           960\n",
       "Without-pay            14\n",
       "Never-worked            7\n",
       "Name: workclass, dtype: int64"
      ]
     },
     "execution_count": 14,
     "metadata": {},
     "output_type": "execute_result"
    }
   ],
   "source": [
    "df.workclass.value_counts()"
   ]
  },
  {
   "cell_type": "markdown",
   "metadata": {},
   "source": [
    "Since enteries for people 'Without-pay' and 'Never-worked' workclass are very less we will combine them as one value naming it altogether as 'Without-pay'."
   ]
  },
  {
   "cell_type": "code",
   "execution_count": 15,
   "metadata": {},
   "outputs": [],
   "source": [
    "df['workclass'] = df['workclass'].str.replace('Never-worked', 'Without-pay')"
   ]
  },
  {
   "cell_type": "code",
   "execution_count": 16,
   "metadata": {},
   "outputs": [],
   "source": [
    "# Replacing '?' values in workclass with NaN \n",
    "df['workclass'] = df['workclass'].replace('?', np.NaN)"
   ]
  },
  {
   "cell_type": "code",
   "execution_count": 17,
   "metadata": {},
   "outputs": [
    {
     "data": {
      "image/png": "[encoded data removed]",
      "text/plain": [
       "<Figure size 720x432 with 1 Axes>"
      ]
     },
     "metadata": {
      "needs_background": "light"
     },
     "output_type": "display_data"
    }
   ],
   "source": [
    "plt.figure(figsize = (10,6))\n",
    "plt.title(\"Income of people according to their workclass\", fontsize = 14)\n",
    "sns.countplot(y = df['workclass'], hue = df['income'])\n",
    "plt.show()"
   ]
  },
  {
   "cell_type": "markdown",
   "metadata": {},
   "source": [
    "> Majority of people working in Private sector have income > 50K a year. Same goes for people with income < 50K. For the Self Employed sector, the number of people whose income > 50K are more than the number of people whose income < 50K. "
   ]
  },
  {
   "cell_type": "markdown",
   "metadata": {},
   "source": [
    "Now, we will replace the NaN values in the 'Workclass' feature by the mode of the column, grouping it by the 'Occupation' feature. \n",
    "We have 7 unique values in Workclass feature. We can encode these values using the frequency encoding technique. "
   ]
  },
  {
   "cell_type": "code",
   "execution_count": 18,
   "metadata": {},
   "outputs": [
    {
     "data": {
      "text/html": [
       "<div>\n",
       "<style scoped>\n",
       "    .dataframe tbody tr th:only-of-type {\n",
       "        vertical-align: middle;\n",
       "    }\n",
       "\n",
       "    .dataframe tbody tr th {\n",
       "        vertical-align: top;\n",
       "    }\n",
       "\n",
       "    .dataframe thead th {\n",
       "        text-align: right;\n",
       "    }\n",
       "</style>\n",
       "<table border=\"1\" class=\"dataframe\">\n",
       "  <thead>\n",
       "    <tr style=\"text-align: right;\">\n",
       "      <th>occupation</th>\n",
       "      <th>?</th>\n",
       "      <th>Adm-clerical</th>\n",
       "      <th>Armed-Forces</th>\n",
       "      <th>Craft-repair</th>\n",
       "      <th>Exec-managerial</th>\n",
       "      <th>Farming-fishing</th>\n",
       "      <th>Handlers-cleaners</th>\n",
       "      <th>Machine-op-inspct</th>\n",
       "      <th>Other-service</th>\n",
       "      <th>Priv-house-serv</th>\n",
       "      <th>Prof-specialty</th>\n",
       "      <th>Protective-serv</th>\n",
       "      <th>Sales</th>\n",
       "      <th>Tech-support</th>\n",
       "      <th>Transport-moving</th>\n",
       "    </tr>\n",
       "  </thead>\n",
       "  <tbody>\n",
       "    <tr>\n",
       "      <th>workclass</th>\n",
       "      <td>Without-pay</td>\n",
       "      <td>Private</td>\n",
       "      <td>Federal-gov</td>\n",
       "      <td>Private</td>\n",
       "      <td>Private</td>\n",
       "      <td>Private</td>\n",
       "      <td>Private</td>\n",
       "      <td>Private</td>\n",
       "      <td>Private</td>\n",
       "      <td>Private</td>\n",
       "      <td>Private</td>\n",
       "      <td>Local-gov</td>\n",
       "      <td>Private</td>\n",
       "      <td>Private</td>\n",
       "      <td>Private</td>\n",
       "    </tr>\n",
       "  </tbody>\n",
       "</table>\n",
       "</div>"
      ],
      "text/plain": [
       "occupation            ? Adm-clerical Armed-Forces Craft-repair  \\\n",
       "workclass   Without-pay      Private  Federal-gov      Private   \n",
       "\n",
       "occupation Exec-managerial Farming-fishing Handlers-cleaners  \\\n",
       "workclass          Private         Private           Private   \n",
       "\n",
       "occupation Machine-op-inspct Other-service Priv-house-serv Prof-specialty  \\\n",
       "workclass            Private       Private         Private        Private   \n",
       "\n",
       "occupation Protective-serv    Sales Tech-support Transport-moving  \n",
       "workclass        Local-gov  Private      Private          Private  "
      ]
     },
     "execution_count": 18,
     "metadata": {},
     "output_type": "execute_result"
    }
   ],
   "source": [
    "from scipy.stats import mode\n",
    "# the pivot table shows the workclass category for each unique occupation\n",
    "workclass_mode = df.pivot_table(values='workclass', columns='occupation',aggfunc=(lambda x:mode(x).mode[0]))\n",
    "workclass_mode"
   ]
  },
  {
   "cell_type": "code",
   "execution_count": 19,
   "metadata": {},
   "outputs": [],
   "source": [
    "loc1 = df['workclass'].isnull() \n",
    "# where isnull=True changes '?' -> 'Without-pay' in workclass\n",
    "df.loc[loc1, 'workclass'] = df.loc[loc1,'occupation'].apply(lambda x: workclass_mode[x]) "
   ]
  },
  {
   "cell_type": "code",
   "execution_count": 20,
   "metadata": {},
   "outputs": [
    {
     "name": "stdout",
     "output_type": "stream",
     "text": [
      "workclass\n",
      "Federal-gov         0.029483\n",
      "Local-gov           0.064279\n",
      "Private             0.697030\n",
      "Self-emp-inc        0.034274\n",
      "Self-emp-not-inc    0.078038\n",
      "State-gov           0.039864\n",
      "Without-pay         0.057031\n",
      "dtype: float64\n"
     ]
    }
   ],
   "source": [
    "# encoding the unique values in workclass \n",
    "workclass_enc = (df.groupby('workclass').size()) / len(df)\n",
    "print(workclass_enc)"
   ]
  },
  {
   "cell_type": "code",
   "execution_count": 21,
   "metadata": {},
   "outputs": [
    {
     "data": {
      "text/plain": [
       "0    0.057031\n",
       "1    0.697030\n",
       "2    0.057031\n",
       "3    0.697030\n",
       "4    0.697030\n",
       "Name: workclass_enc, dtype: float64"
      ]
     },
     "execution_count": 21,
     "metadata": {},
     "output_type": "execute_result"
    }
   ],
   "source": [
    "df['workclass_enc'] = df['workclass'].apply(lambda x : workclass_enc[x])\n",
    "df['workclass_enc'].head() # the new encoded values for workclass"
   ]
  },
  {
   "cell_type": "code",
   "execution_count": 22,
   "metadata": {},
   "outputs": [],
   "source": [
    "df.drop(['workclass'], axis = 1, inplace = True) # dropping the initial workclass column"
   ]
  },
  {
   "cell_type": "markdown",
   "metadata": {},
   "source": [
    "##### For occupation attribute"
   ]
  },
  {
   "cell_type": "code",
   "execution_count": 23,
   "metadata": {},
   "outputs": [
    {
     "data": {
      "text/plain": [
       "Prof-specialty       4140\n",
       "Craft-repair         4099\n",
       "Exec-managerial      4066\n",
       "Adm-clerical         3770\n",
       "Sales                3650\n",
       "Other-service        3295\n",
       "Machine-op-inspct    2002\n",
       "?                    1843\n",
       "Transport-moving     1597\n",
       "Handlers-cleaners    1370\n",
       "Farming-fishing       994\n",
       "Tech-support          928\n",
       "Protective-serv       649\n",
       "Priv-house-serv       149\n",
       "Armed-Forces            9\n",
       "Name: occupation, dtype: int64"
      ]
     },
     "execution_count": 23,
     "metadata": {},
     "output_type": "execute_result"
    }
   ],
   "source": [
    "df.occupation.value_counts()"
   ]
  },
  {
   "cell_type": "code",
   "execution_count": 24,
   "metadata": {
    "scrolled": true
   },
   "outputs": [
    {
     "data": {
      "text/html": [
       "<div>\n",
       "<style scoped>\n",
       "    .dataframe tbody tr th:only-of-type {\n",
       "        vertical-align: middle;\n",
       "    }\n",
       "\n",
       "    .dataframe tbody tr th {\n",
       "        vertical-align: top;\n",
       "    }\n",
       "\n",
       "    .dataframe thead th {\n",
       "        text-align: right;\n",
       "    }\n",
       "</style>\n",
       "<table border=\"1\" class=\"dataframe\">\n",
       "  <thead>\n",
       "    <tr style=\"text-align: right;\">\n",
       "      <th></th>\n",
       "      <th>age</th>\n",
       "      <th>fnlwgt</th>\n",
       "      <th>education.num</th>\n",
       "      <th>marital.status</th>\n",
       "      <th>occupation</th>\n",
       "      <th>relationship</th>\n",
       "      <th>race</th>\n",
       "      <th>sex</th>\n",
       "      <th>capital.gain</th>\n",
       "      <th>capital.loss</th>\n",
       "      <th>hours.per.week</th>\n",
       "      <th>native.country</th>\n",
       "      <th>income</th>\n",
       "      <th>workclass_enc</th>\n",
       "    </tr>\n",
       "  </thead>\n",
       "  <tbody>\n",
       "    <tr>\n",
       "      <th>1</th>\n",
       "      <td>82</td>\n",
       "      <td>132870</td>\n",
       "      <td>9</td>\n",
       "      <td>Widowed</td>\n",
       "      <td>Exec-managerial</td>\n",
       "      <td>Not-in-family</td>\n",
       "      <td>White</td>\n",
       "      <td>Female</td>\n",
       "      <td>0</td>\n",
       "      <td>4356</td>\n",
       "      <td>18</td>\n",
       "      <td>United-States</td>\n",
       "      <td>0</td>\n",
       "      <td>0.69703</td>\n",
       "    </tr>\n",
       "    <tr>\n",
       "      <th>3</th>\n",
       "      <td>54</td>\n",
       "      <td>140359</td>\n",
       "      <td>4</td>\n",
       "      <td>Divorced</td>\n",
       "      <td>Machine-op-inspct</td>\n",
       "      <td>Unmarried</td>\n",
       "      <td>White</td>\n",
       "      <td>Female</td>\n",
       "      <td>0</td>\n",
       "      <td>3900</td>\n",
       "      <td>40</td>\n",
       "      <td>United-States</td>\n",
       "      <td>0</td>\n",
       "      <td>0.69703</td>\n",
       "    </tr>\n",
       "    <tr>\n",
       "      <th>4</th>\n",
       "      <td>41</td>\n",
       "      <td>264663</td>\n",
       "      <td>10</td>\n",
       "      <td>Separated</td>\n",
       "      <td>Prof-specialty</td>\n",
       "      <td>Own-child</td>\n",
       "      <td>White</td>\n",
       "      <td>Female</td>\n",
       "      <td>0</td>\n",
       "      <td>3900</td>\n",
       "      <td>40</td>\n",
       "      <td>United-States</td>\n",
       "      <td>0</td>\n",
       "      <td>0.69703</td>\n",
       "    </tr>\n",
       "    <tr>\n",
       "      <th>5</th>\n",
       "      <td>34</td>\n",
       "      <td>216864</td>\n",
       "      <td>9</td>\n",
       "      <td>Divorced</td>\n",
       "      <td>Other-service</td>\n",
       "      <td>Unmarried</td>\n",
       "      <td>White</td>\n",
       "      <td>Female</td>\n",
       "      <td>0</td>\n",
       "      <td>3770</td>\n",
       "      <td>45</td>\n",
       "      <td>United-States</td>\n",
       "      <td>0</td>\n",
       "      <td>0.69703</td>\n",
       "    </tr>\n",
       "    <tr>\n",
       "      <th>6</th>\n",
       "      <td>38</td>\n",
       "      <td>150601</td>\n",
       "      <td>6</td>\n",
       "      <td>Separated</td>\n",
       "      <td>Adm-clerical</td>\n",
       "      <td>Unmarried</td>\n",
       "      <td>White</td>\n",
       "      <td>Male</td>\n",
       "      <td>0</td>\n",
       "      <td>3770</td>\n",
       "      <td>40</td>\n",
       "      <td>United-States</td>\n",
       "      <td>0</td>\n",
       "      <td>0.69703</td>\n",
       "    </tr>\n",
       "    <tr>\n",
       "      <th>...</th>\n",
       "      <td>...</td>\n",
       "      <td>...</td>\n",
       "      <td>...</td>\n",
       "      <td>...</td>\n",
       "      <td>...</td>\n",
       "      <td>...</td>\n",
       "      <td>...</td>\n",
       "      <td>...</td>\n",
       "      <td>...</td>\n",
       "      <td>...</td>\n",
       "      <td>...</td>\n",
       "      <td>...</td>\n",
       "      <td>...</td>\n",
       "      <td>...</td>\n",
       "    </tr>\n",
       "    <tr>\n",
       "      <th>32556</th>\n",
       "      <td>22</td>\n",
       "      <td>310152</td>\n",
       "      <td>10</td>\n",
       "      <td>Never-married</td>\n",
       "      <td>Protective-serv</td>\n",
       "      <td>Not-in-family</td>\n",
       "      <td>White</td>\n",
       "      <td>Male</td>\n",
       "      <td>0</td>\n",
       "      <td>0</td>\n",
       "      <td>40</td>\n",
       "      <td>United-States</td>\n",
       "      <td>0</td>\n",
       "      <td>0.69703</td>\n",
       "    </tr>\n",
       "    <tr>\n",
       "      <th>32557</th>\n",
       "      <td>27</td>\n",
       "      <td>257302</td>\n",
       "      <td>12</td>\n",
       "      <td>Married-civ-spouse</td>\n",
       "      <td>Tech-support</td>\n",
       "      <td>Wife</td>\n",
       "      <td>White</td>\n",
       "      <td>Female</td>\n",
       "      <td>0</td>\n",
       "      <td>0</td>\n",
       "      <td>38</td>\n",
       "      <td>United-States</td>\n",
       "      <td>0</td>\n",
       "      <td>0.69703</td>\n",
       "    </tr>\n",
       "    <tr>\n",
       "      <th>32558</th>\n",
       "      <td>40</td>\n",
       "      <td>154374</td>\n",
       "      <td>9</td>\n",
       "      <td>Married-civ-spouse</td>\n",
       "      <td>Machine-op-inspct</td>\n",
       "      <td>Husband</td>\n",
       "      <td>White</td>\n",
       "      <td>Male</td>\n",
       "      <td>0</td>\n",
       "      <td>0</td>\n",
       "      <td>40</td>\n",
       "      <td>United-States</td>\n",
       "      <td>1</td>\n",
       "      <td>0.69703</td>\n",
       "    </tr>\n",
       "    <tr>\n",
       "      <th>32559</th>\n",
       "      <td>58</td>\n",
       "      <td>151910</td>\n",
       "      <td>9</td>\n",
       "      <td>Widowed</td>\n",
       "      <td>Adm-clerical</td>\n",
       "      <td>Unmarried</td>\n",
       "      <td>White</td>\n",
       "      <td>Female</td>\n",
       "      <td>0</td>\n",
       "      <td>0</td>\n",
       "      <td>40</td>\n",
       "      <td>United-States</td>\n",
       "      <td>0</td>\n",
       "      <td>0.69703</td>\n",
       "    </tr>\n",
       "    <tr>\n",
       "      <th>32560</th>\n",
       "      <td>22</td>\n",
       "      <td>201490</td>\n",
       "      <td>9</td>\n",
       "      <td>Never-married</td>\n",
       "      <td>Adm-clerical</td>\n",
       "      <td>Own-child</td>\n",
       "      <td>White</td>\n",
       "      <td>Male</td>\n",
       "      <td>0</td>\n",
       "      <td>0</td>\n",
       "      <td>20</td>\n",
       "      <td>United-States</td>\n",
       "      <td>0</td>\n",
       "      <td>0.69703</td>\n",
       "    </tr>\n",
       "  </tbody>\n",
       "</table>\n",
       "<p>30718 rows × 14 columns</p>\n",
       "</div>"
      ],
      "text/plain": [
       "       age  fnlwgt  education.num      marital.status         occupation  \\\n",
       "1       82  132870              9             Widowed    Exec-managerial   \n",
       "3       54  140359              4            Divorced  Machine-op-inspct   \n",
       "4       41  264663             10           Separated     Prof-specialty   \n",
       "5       34  216864              9            Divorced      Other-service   \n",
       "6       38  150601              6           Separated       Adm-clerical   \n",
       "...    ...     ...            ...                 ...                ...   \n",
       "32556   22  310152             10       Never-married    Protective-serv   \n",
       "32557   27  257302             12  Married-civ-spouse       Tech-support   \n",
       "32558   40  154374              9  Married-civ-spouse  Machine-op-inspct   \n",
       "32559   58  151910              9             Widowed       Adm-clerical   \n",
       "32560   22  201490              9       Never-married       Adm-clerical   \n",
       "\n",
       "        relationship   race     sex  capital.gain  capital.loss  \\\n",
       "1      Not-in-family  White  Female             0          4356   \n",
       "3          Unmarried  White  Female             0          3900   \n",
       "4          Own-child  White  Female             0          3900   \n",
       "5          Unmarried  White  Female             0          3770   \n",
       "6          Unmarried  White    Male             0          3770   \n",
       "...              ...    ...     ...           ...           ...   \n",
       "32556  Not-in-family  White    Male             0             0   \n",
       "32557           Wife  White  Female             0             0   \n",
       "32558        Husband  White    Male             0             0   \n",
       "32559      Unmarried  White  Female             0             0   \n",
       "32560      Own-child  White    Male             0             0   \n",
       "\n",
       "       hours.per.week native.country  income  workclass_enc  \n",
       "1                  18  United-States       0        0.69703  \n",
       "3                  40  United-States       0        0.69703  \n",
       "4                  40  United-States       0        0.69703  \n",
       "5                  45  United-States       0        0.69703  \n",
       "6                  40  United-States       0        0.69703  \n",
       "...               ...            ...     ...            ...  \n",
       "32556              40  United-States       0        0.69703  \n",
       "32557              38  United-States       0        0.69703  \n",
       "32558              40  United-States       1        0.69703  \n",
       "32559              40  United-States       0        0.69703  \n",
       "32560              20  United-States       0        0.69703  \n",
       "\n",
       "[30718 rows x 14 columns]"
      ]
     },
     "execution_count": 24,
     "metadata": {},
     "output_type": "execute_result"
    }
   ],
   "source": [
    "df['occupation'] = df['occupation'].replace('?', np.NaN)\n",
    "# dropping the rows where the occupation is NaN\n",
    "df = df.loc[df['occupation'].isnull() == False]\n",
    "df"
   ]
  },
  {
   "cell_type": "code",
   "execution_count": 25,
   "metadata": {},
   "outputs": [
    {
     "data": {
      "image/png": "[encoded data removed]",
      "text/plain": [
       "<Figure size 800x480 with 1 Axes>"
      ]
     },
     "metadata": {},
     "output_type": "display_data"
    }
   ],
   "source": [
    "plt.style.use('classic')\n",
    "plt.figure(figsize = (10,6))\n",
    "plt.title(\"Income of people according to their occupation\", fontsize = 14)\n",
    "sns.countplot(y = df['occupation'], hue = df['income'])\n",
    "plt.show()"
   ]
  },
  {
   "cell_type": "markdown",
   "metadata": {},
   "source": [
    "> We observe majority of people whose income is greater than 50K are either executive managers or they belong to any professional speciality. "
   ]
  },
  {
   "cell_type": "code",
   "execution_count": 26,
   "metadata": {},
   "outputs": [
    {
     "name": "stdout",
     "output_type": "stream",
     "text": [
      "occupation\n",
      "Adm-clerical         0.122729\n",
      "Armed-Forces         0.000293\n",
      "Craft-repair         0.133440\n",
      "Exec-managerial      0.132365\n",
      "Farming-fishing      0.032359\n",
      "Handlers-cleaners    0.044599\n",
      "Machine-op-inspct    0.065174\n",
      "Other-service        0.107266\n",
      "Priv-house-serv      0.004851\n",
      "Prof-specialty       0.134774\n",
      "Protective-serv      0.021128\n",
      "Sales                0.118823\n",
      "Tech-support         0.030210\n",
      "Transport-moving     0.051989\n",
      "dtype: float64\n"
     ]
    }
   ],
   "source": [
    "# encoding the unique values in occupation\n",
    "occupation_enc = (df.groupby('occupation').size()) / len(df)\n",
    "print(occupation_enc)"
   ]
  },
  {
   "cell_type": "code",
   "execution_count": 27,
   "metadata": {},
   "outputs": [
    {
     "data": {
      "text/plain": [
       "1    0.132365\n",
       "3    0.065174\n",
       "4    0.134774\n",
       "5    0.107266\n",
       "6    0.122729\n",
       "Name: occupation_enc, dtype: float64"
      ]
     },
     "execution_count": 27,
     "metadata": {},
     "output_type": "execute_result"
    }
   ],
   "source": [
    "df['occupation_enc'] = df['occupation'].apply(lambda x : occupation_enc[x])\n",
    "df['occupation_enc'].head() # the new encoded values for occupation"
   ]
  },
  {
   "cell_type": "code",
   "execution_count": 28,
   "metadata": {},
   "outputs": [],
   "source": [
    "df.drop(['occupation'], axis = 1, inplace = True) # dropping the initial occupation column"
   ]
  },
  {
   "cell_type": "markdown",
   "metadata": {},
   "source": [
    "##### For Native_country attribute"
   ]
  },
  {
   "cell_type": "markdown",
   "metadata": {},
   "source": [
    "Checking whether for individuals native to the USA and those are not natives there. Converting all the values where country is not USA to 'non-usa'. We can encode the values by one-hot encoding without increasing the dimensionality of dataset."
   ]
  },
  {
   "cell_type": "code",
   "execution_count": 29,
   "metadata": {},
   "outputs": [
    {
     "data": {
      "text/plain": [
       "usa        27504\n",
       "non_usa     3214\n",
       "Name: native.country, dtype: int64"
      ]
     },
     "execution_count": 29,
     "metadata": {},
     "output_type": "execute_result"
    }
   ],
   "source": [
    "df['native.country'].loc[df['native.country'] == 'United-States'] = 'usa'\n",
    "df['native.country'].loc[df['native.country'] != 'usa'] = 'non_usa'\n",
    "df['native.country'].value_counts()"
   ]
  },
  {
   "cell_type": "code",
   "execution_count": 30,
   "metadata": {},
   "outputs": [
    {
     "data": {
      "image/png": "[encoded data removed]",
      "text/plain": [
       "<Figure size 640x240 with 1 Axes>"
      ]
     },
     "metadata": {},
     "output_type": "display_data"
    }
   ],
   "source": [
    "plt.style.use('ggplot')\n",
    "plt.figure(figsize = (8,3))\n",
    "plt.title(\"Income of people according to their native country\", fontsize = 14)\n",
    "sns.countplot(y = df['native.country'], hue = df['income'])\n",
    "plt.show()"
   ]
  },
  {
   "cell_type": "markdown",
   "metadata": {},
   "source": [
    "> We observe majority of people with higher income belong to the USA. "
   ]
  },
  {
   "cell_type": "code",
   "execution_count": 31,
   "metadata": {},
   "outputs": [],
   "source": [
    "# Using one hot encoding changing 'usa':1 and 'non-usa':0\n",
    "df['country_enc'] = df['native.country'].map({'usa' : 1, 'non_usa' : 0})\n",
    "df.drop(['native.country'], axis = 1, inplace = True) # dropping the initial native_country column"
   ]
  },
  {
   "cell_type": "markdown",
   "metadata": {},
   "source": [
    "##### For sex attribute"
   ]
  },
  {
   "cell_type": "code",
   "execution_count": 32,
   "metadata": {},
   "outputs": [
    {
     "data": {
      "image/png": "[encoded data removed]",
      "text/plain": [
       "<Figure size 640x440 with 1 Axes>"
      ]
     },
     "metadata": {},
     "output_type": "display_data"
    }
   ],
   "source": [
    "plt.style.use('seaborn')\n",
    "plt.title(\"Income of people by their sex\", fontsize = 14)\n",
    "sns.countplot(x = df['sex'], hue = df['income'])\n",
    "plt.show()"
   ]
  },
  {
   "cell_type": "code",
   "execution_count": 33,
   "metadata": {},
   "outputs": [],
   "source": [
    "# Using one hot encoding. Changing 'male':1 and 'female':0\n",
    "df['sex_enc'] = df['sex'].map({'Male' : 1, 'Female' : 0})\n",
    "df.drop(['sex'], axis = 1, inplace = True) # dropping the initial sex column"
   ]
  },
  {
   "cell_type": "markdown",
   "metadata": {},
   "source": [
    "##### For marital_status attribute"
   ]
  },
  {
   "cell_type": "code",
   "execution_count": 34,
   "metadata": {},
   "outputs": [
    {
     "data": {
      "image/png": "[encoded data removed]",
      "text/plain": [
       "<Figure size 640x480 with 1 Axes>"
      ]
     },
     "metadata": {},
     "output_type": "display_data"
    }
   ],
   "source": [
    "plt.style.use('classic')\n",
    "plt.title(\"Income of people by Marital Status\", fontsize = 14)\n",
    "sns.countplot(y = df['marital.status'], hue = df['income'])\n",
    "plt.show()"
   ]
  },
  {
   "cell_type": "markdown",
   "metadata": {},
   "source": [
    "> We observe married people have a higher income as compared to others."
   ]
  },
  {
   "cell_type": "code",
   "execution_count": 35,
   "metadata": {},
   "outputs": [
    {
     "name": "stdout",
     "output_type": "stream",
     "text": [
      "marital.status\n",
      "Divorced                 0.138616\n",
      "Married-AF-spouse        0.000684\n",
      "Married-civ-spouse       0.466795\n",
      "Married-spouse-absent    0.012664\n",
      "Never-married            0.322677\n",
      "Separated                0.031219\n",
      "Widowed                  0.027346\n",
      "dtype: float64\n"
     ]
    }
   ],
   "source": [
    "# encoding the unique values in occupation\n",
    "marital_status_enc = (df.groupby('marital.status').size()) / len(df)\n",
    "print(marital_status_enc)"
   ]
  },
  {
   "cell_type": "code",
   "execution_count": 36,
   "metadata": {},
   "outputs": [
    {
     "data": {
      "text/plain": [
       "1    0.027346\n",
       "3    0.138616\n",
       "4    0.031219\n",
       "5    0.138616\n",
       "6    0.031219\n",
       "Name: marital_status_enc, dtype: float64"
      ]
     },
     "execution_count": 36,
     "metadata": {},
     "output_type": "execute_result"
    }
   ],
   "source": [
    "df['marital_status_enc'] = df['marital.status'].apply(lambda x : marital_status_enc[x])\n",
    "df['marital_status_enc'].head() # the new encoded values for occupation"
   ]
  },
  {
   "cell_type": "code",
   "execution_count": 37,
   "metadata": {},
   "outputs": [],
   "source": [
    "df.drop(['marital.status'], axis = 1, inplace = True) # dropping the initial marital.status column"
   ]
  },
  {
   "cell_type": "markdown",
   "metadata": {},
   "source": [
    "##### For Race attribute"
   ]
  },
  {
   "cell_type": "code",
   "execution_count": 38,
   "metadata": {},
   "outputs": [
    {
     "data": {
      "image/png": "[encoded data removed]",
      "text/plain": [
       "<Figure size 640x480 with 1 Axes>"
      ]
     },
     "metadata": {},
     "output_type": "display_data"
    }
   ],
   "source": [
    "plt.style.use('ggplot')\n",
    "plt.title(\"Income respective to Race\", fontsize = 14)\n",
    "sns.countplot(y = df['race'], hue = df['income'])\n",
    "plt.show()"
   ]
  },
  {
   "cell_type": "markdown",
   "metadata": {},
   "source": [
    "##### For relationship attribute"
   ]
  },
  {
   "cell_type": "code",
   "execution_count": 39,
   "metadata": {},
   "outputs": [
    {
     "data": {
      "image/png": "[encoded data removed]",
      "text/plain": [
       "<Figure size 640x440 with 1 Axes>"
      ]
     },
     "metadata": {},
     "output_type": "display_data"
    }
   ],
   "source": [
    "plt.style.use('seaborn')\n",
    "plt.title(\"Income respective to Relationship\", fontsize = 14)\n",
    "sns.countplot(y = df['relationship'], hue = df['income'])\n",
    "plt.show()"
   ]
  },
  {
   "cell_type": "markdown",
   "metadata": {},
   "source": [
    "> White people have a higher salary as compared to other races. Similarly, husband in the family have a higher salary as compared to other relationship in the family. Encoding both these columns using onehot encoding."
   ]
  },
  {
   "cell_type": "code",
   "execution_count": 40,
   "metadata": {},
   "outputs": [
    {
     "name": "stdout",
     "output_type": "stream",
     "text": [
      "race\n",
      "Amer-Indian-Eskimo    0.009311\n",
      "Asian-Pac-Islander    0.031708\n",
      "Black                 0.094700\n",
      "Other                 0.008073\n",
      "White                 0.856208\n",
      "dtype: float64 \n",
      "\n"
     ]
    }
   ],
   "source": [
    "# encoding the unique values in race\n",
    "race_enc = (df.groupby('race').size()) / len(df)\n",
    "print(race_enc,'\\n')\n",
    "df['race_enc'] = df['race'].apply(lambda x : race_enc[x])\n",
    "df.drop(['race'], axis = 1, inplace = True) # dropping the initial race column"
   ]
  },
  {
   "cell_type": "code",
   "execution_count": 41,
   "metadata": {},
   "outputs": [
    {
     "name": "stdout",
     "output_type": "stream",
     "text": [
      "relationship\n",
      "Husband           0.413569\n",
      "Not-in-family     0.256039\n",
      "Other-relative    0.029885\n",
      "Own-child         0.147308\n",
      "Unmarried         0.106485\n",
      "Wife              0.046715\n",
      "dtype: float64\n"
     ]
    }
   ],
   "source": [
    "# encoding the unique values in relationship\n",
    "relationship_enc = (df.groupby('relationship').size()) / len(df)\n",
    "print(relationship_enc)\n",
    "df['relationship_enc'] = df['relationship'].apply(lambda x : relationship_enc[x])\n",
    "df.drop(['relationship'], axis = 1, inplace = True) # dropping the initial relationship column"
   ]
  },
  {
   "cell_type": "code",
   "execution_count": 42,
   "metadata": {},
   "outputs": [
    {
     "data": {
      "text/html": [
       "<div>\n",
       "<style scoped>\n",
       "    .dataframe tbody tr th:only-of-type {\n",
       "        vertical-align: middle;\n",
       "    }\n",
       "\n",
       "    .dataframe tbody tr th {\n",
       "        vertical-align: top;\n",
       "    }\n",
       "\n",
       "    .dataframe thead th {\n",
       "        text-align: right;\n",
       "    }\n",
       "</style>\n",
       "<table border=\"1\" class=\"dataframe\">\n",
       "  <thead>\n",
       "    <tr style=\"text-align: right;\">\n",
       "      <th></th>\n",
       "      <th>age</th>\n",
       "      <th>fnlwgt</th>\n",
       "      <th>education.num</th>\n",
       "      <th>capital.gain</th>\n",
       "      <th>capital.loss</th>\n",
       "      <th>hours.per.week</th>\n",
       "      <th>workclass_enc</th>\n",
       "      <th>occupation_enc</th>\n",
       "      <th>country_enc</th>\n",
       "      <th>sex_enc</th>\n",
       "      <th>marital_status_enc</th>\n",
       "      <th>race_enc</th>\n",
       "      <th>relationship_enc</th>\n",
       "      <th>income</th>\n",
       "    </tr>\n",
       "  </thead>\n",
       "  <tbody>\n",
       "    <tr>\n",
       "      <th>1</th>\n",
       "      <td>82</td>\n",
       "      <td>132870</td>\n",
       "      <td>9</td>\n",
       "      <td>0</td>\n",
       "      <td>4356</td>\n",
       "      <td>18</td>\n",
       "      <td>0.69703</td>\n",
       "      <td>0.132365</td>\n",
       "      <td>1</td>\n",
       "      <td>0</td>\n",
       "      <td>0.027346</td>\n",
       "      <td>0.856208</td>\n",
       "      <td>0.256039</td>\n",
       "      <td>0</td>\n",
       "    </tr>\n",
       "    <tr>\n",
       "      <th>3</th>\n",
       "      <td>54</td>\n",
       "      <td>140359</td>\n",
       "      <td>4</td>\n",
       "      <td>0</td>\n",
       "      <td>3900</td>\n",
       "      <td>40</td>\n",
       "      <td>0.69703</td>\n",
       "      <td>0.065174</td>\n",
       "      <td>1</td>\n",
       "      <td>0</td>\n",
       "      <td>0.138616</td>\n",
       "      <td>0.856208</td>\n",
       "      <td>0.106485</td>\n",
       "      <td>0</td>\n",
       "    </tr>\n",
       "    <tr>\n",
       "      <th>4</th>\n",
       "      <td>41</td>\n",
       "      <td>264663</td>\n",
       "      <td>10</td>\n",
       "      <td>0</td>\n",
       "      <td>3900</td>\n",
       "      <td>40</td>\n",
       "      <td>0.69703</td>\n",
       "      <td>0.134774</td>\n",
       "      <td>1</td>\n",
       "      <td>0</td>\n",
       "      <td>0.031219</td>\n",
       "      <td>0.856208</td>\n",
       "      <td>0.147308</td>\n",
       "      <td>0</td>\n",
       "    </tr>\n",
       "    <tr>\n",
       "      <th>5</th>\n",
       "      <td>34</td>\n",
       "      <td>216864</td>\n",
       "      <td>9</td>\n",
       "      <td>0</td>\n",
       "      <td>3770</td>\n",
       "      <td>45</td>\n",
       "      <td>0.69703</td>\n",
       "      <td>0.107266</td>\n",
       "      <td>1</td>\n",
       "      <td>0</td>\n",
       "      <td>0.138616</td>\n",
       "      <td>0.856208</td>\n",
       "      <td>0.106485</td>\n",
       "      <td>0</td>\n",
       "    </tr>\n",
       "    <tr>\n",
       "      <th>6</th>\n",
       "      <td>38</td>\n",
       "      <td>150601</td>\n",
       "      <td>6</td>\n",
       "      <td>0</td>\n",
       "      <td>3770</td>\n",
       "      <td>40</td>\n",
       "      <td>0.69703</td>\n",
       "      <td>0.122729</td>\n",
       "      <td>1</td>\n",
       "      <td>1</td>\n",
       "      <td>0.031219</td>\n",
       "      <td>0.856208</td>\n",
       "      <td>0.106485</td>\n",
       "      <td>0</td>\n",
       "    </tr>\n",
       "    <tr>\n",
       "      <th>...</th>\n",
       "      <td>...</td>\n",
       "      <td>...</td>\n",
       "      <td>...</td>\n",
       "      <td>...</td>\n",
       "      <td>...</td>\n",
       "      <td>...</td>\n",
       "      <td>...</td>\n",
       "      <td>...</td>\n",
       "      <td>...</td>\n",
       "      <td>...</td>\n",
       "      <td>...</td>\n",
       "      <td>...</td>\n",
       "      <td>...</td>\n",
       "      <td>...</td>\n",
       "    </tr>\n",
       "    <tr>\n",
       "      <th>32556</th>\n",
       "      <td>22</td>\n",
       "      <td>310152</td>\n",
       "      <td>10</td>\n",
       "      <td>0</td>\n",
       "      <td>0</td>\n",
       "      <td>40</td>\n",
       "      <td>0.69703</td>\n",
       "      <td>0.021128</td>\n",
       "      <td>1</td>\n",
       "      <td>1</td>\n",
       "      <td>0.322677</td>\n",
       "      <td>0.856208</td>\n",
       "      <td>0.256039</td>\n",
       "      <td>0</td>\n",
       "    </tr>\n",
       "    <tr>\n",
       "      <th>32557</th>\n",
       "      <td>27</td>\n",
       "      <td>257302</td>\n",
       "      <td>12</td>\n",
       "      <td>0</td>\n",
       "      <td>0</td>\n",
       "      <td>38</td>\n",
       "      <td>0.69703</td>\n",
       "      <td>0.030210</td>\n",
       "      <td>1</td>\n",
       "      <td>0</td>\n",
       "      <td>0.466795</td>\n",
       "      <td>0.856208</td>\n",
       "      <td>0.046715</td>\n",
       "      <td>0</td>\n",
       "    </tr>\n",
       "    <tr>\n",
       "      <th>32558</th>\n",
       "      <td>40</td>\n",
       "      <td>154374</td>\n",
       "      <td>9</td>\n",
       "      <td>0</td>\n",
       "      <td>0</td>\n",
       "      <td>40</td>\n",
       "      <td>0.69703</td>\n",
       "      <td>0.065174</td>\n",
       "      <td>1</td>\n",
       "      <td>1</td>\n",
       "      <td>0.466795</td>\n",
       "      <td>0.856208</td>\n",
       "      <td>0.413569</td>\n",
       "      <td>1</td>\n",
       "    </tr>\n",
       "    <tr>\n",
       "      <th>32559</th>\n",
       "      <td>58</td>\n",
       "      <td>151910</td>\n",
       "      <td>9</td>\n",
       "      <td>0</td>\n",
       "      <td>0</td>\n",
       "      <td>40</td>\n",
       "      <td>0.69703</td>\n",
       "      <td>0.122729</td>\n",
       "      <td>1</td>\n",
       "      <td>0</td>\n",
       "      <td>0.027346</td>\n",
       "      <td>0.856208</td>\n",
       "      <td>0.106485</td>\n",
       "      <td>0</td>\n",
       "    </tr>\n",
       "    <tr>\n",
       "      <th>32560</th>\n",
       "      <td>22</td>\n",
       "      <td>201490</td>\n",
       "      <td>9</td>\n",
       "      <td>0</td>\n",
       "      <td>0</td>\n",
       "      <td>20</td>\n",
       "      <td>0.69703</td>\n",
       "      <td>0.122729</td>\n",
       "      <td>1</td>\n",
       "      <td>1</td>\n",
       "      <td>0.322677</td>\n",
       "      <td>0.856208</td>\n",
       "      <td>0.147308</td>\n",
       "      <td>0</td>\n",
       "    </tr>\n",
       "  </tbody>\n",
       "</table>\n",
       "<p>30718 rows × 14 columns</p>\n",
       "</div>"
      ],
      "text/plain": [
       "       age  fnlwgt  education.num  capital.gain  capital.loss  hours.per.week  \\\n",
       "1       82  132870              9             0          4356              18   \n",
       "3       54  140359              4             0          3900              40   \n",
       "4       41  264663             10             0          3900              40   \n",
       "5       34  216864              9             0          3770              45   \n",
       "6       38  150601              6             0          3770              40   \n",
       "...    ...     ...            ...           ...           ...             ...   \n",
       "32556   22  310152             10             0             0              40   \n",
       "32557   27  257302             12             0             0              38   \n",
       "32558   40  154374              9             0             0              40   \n",
       "32559   58  151910              9             0             0              40   \n",
       "32560   22  201490              9             0             0              20   \n",
       "\n",
       "       workclass_enc  occupation_enc  country_enc  sex_enc  \\\n",
       "1            0.69703        0.132365            1        0   \n",
       "3            0.69703        0.065174            1        0   \n",
       "4            0.69703        0.134774            1        0   \n",
       "5            0.69703        0.107266            1        0   \n",
       "6            0.69703        0.122729            1        1   \n",
       "...              ...             ...          ...      ...   \n",
       "32556        0.69703        0.021128            1        1   \n",
       "32557        0.69703        0.030210            1        0   \n",
       "32558        0.69703        0.065174            1        1   \n",
       "32559        0.69703        0.122729            1        0   \n",
       "32560        0.69703        0.122729            1        1   \n",
       "\n",
       "       marital_status_enc  race_enc  relationship_enc  income  \n",
       "1                0.027346  0.856208          0.256039       0  \n",
       "3                0.138616  0.856208          0.106485       0  \n",
       "4                0.031219  0.856208          0.147308       0  \n",
       "5                0.138616  0.856208          0.106485       0  \n",
       "6                0.031219  0.856208          0.106485       0  \n",
       "...                   ...       ...               ...     ...  \n",
       "32556            0.322677  0.856208          0.256039       0  \n",
       "32557            0.466795  0.856208          0.046715       0  \n",
       "32558            0.466795  0.856208          0.413569       1  \n",
       "32559            0.027346  0.856208          0.106485       0  \n",
       "32560            0.322677  0.856208          0.147308       0  \n",
       "\n",
       "[30718 rows x 14 columns]"
      ]
     },
     "execution_count": 42,
     "metadata": {},
     "output_type": "execute_result"
    }
   ],
   "source": [
    "new_df = df.drop(['income'], axis = 1)\n",
    "new_df['income'] = df['income']\n",
    "new_df"
   ]
  },
  {
   "cell_type": "markdown",
   "metadata": {},
   "source": [
    "#### DETECTING OUTLIERS IN THE FEATURE VARIABLES"
   ]
  },
  {
   "cell_type": "markdown",
   "metadata": {},
   "source": [
    "Now we check if any outliers are present in the continous attributes of the dataset. We do this both by visualisations and the z-score normalization for the continous columns."
   ]
  },
  {
   "cell_type": "code",
   "execution_count": 43,
   "metadata": {},
   "outputs": [
    {
     "name": "stdout",
     "output_type": "stream",
     "text": [
      "BoxPlots of the features:\n"
     ]
    },
    {
     "data": {
      "image/png": "[encoded data removed]",
      "text/plain": [
       "<Figure size 960x480 with 5 Axes>"
      ]
     },
     "metadata": {},
     "output_type": "display_data"
    }
   ],
   "source": [
    "plt.style.use('bmh')\n",
    "clist = ['fnlwgt','age','capital.gain','capital.loss','hours.per.week']\n",
    "plt.figure(figsize = (12,6))\n",
    "for i in range(0, len(clist)):\n",
    "    plt.subplot(2,3, i+1)\n",
    "    sns.boxplot(df[clist[i]], color = 'skyblue')\n",
    "print(\"BoxPlots of the features:\")\n",
    "plt.show()"
   ]
  },
  {
   "cell_type": "markdown",
   "metadata": {},
   "source": [
    "> Outliers are present in the many continous valued columns. Now we check the z-scores for these continous valued features."
   ]
  },
  {
   "cell_type": "code",
   "execution_count": 44,
   "metadata": {},
   "outputs": [
    {
     "name": "stdout",
     "output_type": "stream",
     "text": [
      "(2, 2566)\n"
     ]
    },
    {
     "data": {
      "text/html": [
       "<div>\n",
       "<style scoped>\n",
       "    .dataframe tbody tr th:only-of-type {\n",
       "        vertical-align: middle;\n",
       "    }\n",
       "\n",
       "    .dataframe tbody tr th {\n",
       "        vertical-align: top;\n",
       "    }\n",
       "\n",
       "    .dataframe thead th {\n",
       "        text-align: right;\n",
       "    }\n",
       "</style>\n",
       "<table border=\"1\" class=\"dataframe\">\n",
       "  <thead>\n",
       "    <tr style=\"text-align: right;\">\n",
       "      <th></th>\n",
       "      <th>age</th>\n",
       "      <th>fnlwgt</th>\n",
       "      <th>education.num</th>\n",
       "      <th>capital.gain</th>\n",
       "      <th>capital.loss</th>\n",
       "      <th>hours.per.week</th>\n",
       "      <th>workclass_enc</th>\n",
       "      <th>occupation_enc</th>\n",
       "      <th>country_enc</th>\n",
       "      <th>sex_enc</th>\n",
       "      <th>marital_status_enc</th>\n",
       "      <th>race_enc</th>\n",
       "      <th>relationship_enc</th>\n",
       "      <th>income</th>\n",
       "    </tr>\n",
       "  </thead>\n",
       "  <tbody>\n",
       "    <tr>\n",
       "      <th>1470</th>\n",
       "      <td>62</td>\n",
       "      <td>159908</td>\n",
       "      <td>13</td>\n",
       "      <td>0</td>\n",
       "      <td>1258</td>\n",
       "      <td>38</td>\n",
       "      <td>0.064279</td>\n",
       "      <td>0.122729</td>\n",
       "      <td>1</td>\n",
       "      <td>0</td>\n",
       "      <td>0.466795</td>\n",
       "      <td>0.856208</td>\n",
       "      <td>0.046715</td>\n",
       "      <td>0</td>\n",
       "    </tr>\n",
       "    <tr>\n",
       "      <th>1471</th>\n",
       "      <td>72</td>\n",
       "      <td>144515</td>\n",
       "      <td>16</td>\n",
       "      <td>0</td>\n",
       "      <td>1258</td>\n",
       "      <td>40</td>\n",
       "      <td>0.064279</td>\n",
       "      <td>0.132365</td>\n",
       "      <td>1</td>\n",
       "      <td>1</td>\n",
       "      <td>0.466795</td>\n",
       "      <td>0.856208</td>\n",
       "      <td>0.413569</td>\n",
       "      <td>0</td>\n",
       "    </tr>\n",
       "    <tr>\n",
       "      <th>1473</th>\n",
       "      <td>66</td>\n",
       "      <td>350498</td>\n",
       "      <td>10</td>\n",
       "      <td>0</td>\n",
       "      <td>1258</td>\n",
       "      <td>20</td>\n",
       "      <td>0.697030</td>\n",
       "      <td>0.051989</td>\n",
       "      <td>1</td>\n",
       "      <td>1</td>\n",
       "      <td>0.466795</td>\n",
       "      <td>0.856208</td>\n",
       "      <td>0.413569</td>\n",
       "      <td>0</td>\n",
       "    </tr>\n",
       "    <tr>\n",
       "      <th>1474</th>\n",
       "      <td>33</td>\n",
       "      <td>262042</td>\n",
       "      <td>9</td>\n",
       "      <td>0</td>\n",
       "      <td>1138</td>\n",
       "      <td>40</td>\n",
       "      <td>0.064279</td>\n",
       "      <td>0.122729</td>\n",
       "      <td>1</td>\n",
       "      <td>0</td>\n",
       "      <td>0.138616</td>\n",
       "      <td>0.856208</td>\n",
       "      <td>0.147308</td>\n",
       "      <td>0</td>\n",
       "    </tr>\n",
       "    <tr>\n",
       "      <th>1475</th>\n",
       "      <td>29</td>\n",
       "      <td>138190</td>\n",
       "      <td>9</td>\n",
       "      <td>0</td>\n",
       "      <td>1138</td>\n",
       "      <td>40</td>\n",
       "      <td>0.697030</td>\n",
       "      <td>0.118823</td>\n",
       "      <td>1</td>\n",
       "      <td>0</td>\n",
       "      <td>0.322677</td>\n",
       "      <td>0.094700</td>\n",
       "      <td>0.106485</td>\n",
       "      <td>0</td>\n",
       "    </tr>\n",
       "    <tr>\n",
       "      <th>...</th>\n",
       "      <td>...</td>\n",
       "      <td>...</td>\n",
       "      <td>...</td>\n",
       "      <td>...</td>\n",
       "      <td>...</td>\n",
       "      <td>...</td>\n",
       "      <td>...</td>\n",
       "      <td>...</td>\n",
       "      <td>...</td>\n",
       "      <td>...</td>\n",
       "      <td>...</td>\n",
       "      <td>...</td>\n",
       "      <td>...</td>\n",
       "      <td>...</td>\n",
       "    </tr>\n",
       "    <tr>\n",
       "      <th>32556</th>\n",
       "      <td>22</td>\n",
       "      <td>310152</td>\n",
       "      <td>10</td>\n",
       "      <td>0</td>\n",
       "      <td>0</td>\n",
       "      <td>40</td>\n",
       "      <td>0.697030</td>\n",
       "      <td>0.021128</td>\n",
       "      <td>1</td>\n",
       "      <td>1</td>\n",
       "      <td>0.322677</td>\n",
       "      <td>0.856208</td>\n",
       "      <td>0.256039</td>\n",
       "      <td>0</td>\n",
       "    </tr>\n",
       "    <tr>\n",
       "      <th>32557</th>\n",
       "      <td>27</td>\n",
       "      <td>257302</td>\n",
       "      <td>12</td>\n",
       "      <td>0</td>\n",
       "      <td>0</td>\n",
       "      <td>38</td>\n",
       "      <td>0.697030</td>\n",
       "      <td>0.030210</td>\n",
       "      <td>1</td>\n",
       "      <td>0</td>\n",
       "      <td>0.466795</td>\n",
       "      <td>0.856208</td>\n",
       "      <td>0.046715</td>\n",
       "      <td>0</td>\n",
       "    </tr>\n",
       "    <tr>\n",
       "      <th>32558</th>\n",
       "      <td>40</td>\n",
       "      <td>154374</td>\n",
       "      <td>9</td>\n",
       "      <td>0</td>\n",
       "      <td>0</td>\n",
       "      <td>40</td>\n",
       "      <td>0.697030</td>\n",
       "      <td>0.065174</td>\n",
       "      <td>1</td>\n",
       "      <td>1</td>\n",
       "      <td>0.466795</td>\n",
       "      <td>0.856208</td>\n",
       "      <td>0.413569</td>\n",
       "      <td>1</td>\n",
       "    </tr>\n",
       "    <tr>\n",
       "      <th>32559</th>\n",
       "      <td>58</td>\n",
       "      <td>151910</td>\n",
       "      <td>9</td>\n",
       "      <td>0</td>\n",
       "      <td>0</td>\n",
       "      <td>40</td>\n",
       "      <td>0.697030</td>\n",
       "      <td>0.122729</td>\n",
       "      <td>1</td>\n",
       "      <td>0</td>\n",
       "      <td>0.027346</td>\n",
       "      <td>0.856208</td>\n",
       "      <td>0.106485</td>\n",
       "      <td>0</td>\n",
       "    </tr>\n",
       "    <tr>\n",
       "      <th>32560</th>\n",
       "      <td>22</td>\n",
       "      <td>201490</td>\n",
       "      <td>9</td>\n",
       "      <td>0</td>\n",
       "      <td>0</td>\n",
       "      <td>20</td>\n",
       "      <td>0.697030</td>\n",
       "      <td>0.122729</td>\n",
       "      <td>1</td>\n",
       "      <td>1</td>\n",
       "      <td>0.322677</td>\n",
       "      <td>0.856208</td>\n",
       "      <td>0.147308</td>\n",
       "      <td>0</td>\n",
       "    </tr>\n",
       "  </tbody>\n",
       "</table>\n",
       "<p>28214 rows × 14 columns</p>\n",
       "</div>"
      ],
      "text/plain": [
       "       age  fnlwgt  education.num  capital.gain  capital.loss  hours.per.week  \\\n",
       "1470    62  159908             13             0          1258              38   \n",
       "1471    72  144515             16             0          1258              40   \n",
       "1473    66  350498             10             0          1258              20   \n",
       "1474    33  262042              9             0          1138              40   \n",
       "1475    29  138190              9             0          1138              40   \n",
       "...    ...     ...            ...           ...           ...             ...   \n",
       "32556   22  310152             10             0             0              40   \n",
       "32557   27  257302             12             0             0              38   \n",
       "32558   40  154374              9             0             0              40   \n",
       "32559   58  151910              9             0             0              40   \n",
       "32560   22  201490              9             0             0              20   \n",
       "\n",
       "       workclass_enc  occupation_enc  country_enc  sex_enc  \\\n",
       "1470        0.064279        0.122729            1        0   \n",
       "1471        0.064279        0.132365            1        1   \n",
       "1473        0.697030        0.051989            1        1   \n",
       "1474        0.064279        0.122729            1        0   \n",
       "1475        0.697030        0.118823            1        0   \n",
       "...              ...             ...          ...      ...   \n",
       "32556       0.697030        0.021128            1        1   \n",
       "32557       0.697030        0.030210            1        0   \n",
       "32558       0.697030        0.065174            1        1   \n",
       "32559       0.697030        0.122729            1        0   \n",
       "32560       0.697030        0.122729            1        1   \n",
       "\n",
       "       marital_status_enc  race_enc  relationship_enc  income  \n",
       "1470             0.466795  0.856208          0.046715       0  \n",
       "1471             0.466795  0.856208          0.413569       0  \n",
       "1473             0.466795  0.856208          0.413569       0  \n",
       "1474             0.138616  0.856208          0.147308       0  \n",
       "1475             0.322677  0.094700          0.106485       0  \n",
       "...                   ...       ...               ...     ...  \n",
       "32556            0.322677  0.856208          0.256039       0  \n",
       "32557            0.466795  0.856208          0.046715       0  \n",
       "32558            0.466795  0.856208          0.413569       1  \n",
       "32559            0.027346  0.856208          0.106485       0  \n",
       "32560            0.322677  0.856208          0.147308       0  \n",
       "\n",
       "[28214 rows x 14 columns]"
      ]
     },
     "execution_count": 44,
     "metadata": {},
     "output_type": "execute_result"
    }
   ],
   "source": [
    "from scipy.stats import zscore\n",
    "z_abs = np.abs(zscore(new_df.loc[:,'fnlwgt':'hours.per.week']))\n",
    "print(np.shape(np.where(z_abs >= 3)))\n",
    "new_df = new_df[(z_abs < 3).all(axis = 1)]\n",
    "new_df"
   ]
  },
  {
   "cell_type": "markdown",
   "metadata": {},
   "source": [
    "We have a total of 2566 outliers in the data. After removing the outliers, now we have 28213 observations left in the dataframe."
   ]
  },
  {
   "cell_type": "markdown",
   "metadata": {},
   "source": [
    "Now, we check for the correlation between feature variables and target variables to check which feature is most related to the target variable."
   ]
  },
  {
   "cell_type": "code",
   "execution_count": 45,
   "metadata": {},
   "outputs": [
    {
     "data": {
      "image/png": "[encoded data removed]",
      "text/plain": [
       "<Figure size 1120x640 with 2 Axes>"
      ]
     },
     "metadata": {},
     "output_type": "display_data"
    }
   ],
   "source": [
    "plt.figure(figsize = (14, 8))\n",
    "plt.title(\"Correlation between target and features:\")\n",
    "sns.heatmap(new_df.corr(), annot = True, cmap=\"Blues\")\n",
    "plt.show()"
   ]
  },
  {
   "cell_type": "markdown",
   "metadata": {},
   "source": [
    "> 'Capital_gain', 'Education_num', 'Marital_status_enc', 'Relationship_enc' are most correlated to the Income of the observations."
   ]
  },
  {
   "cell_type": "markdown",
   "metadata": {},
   "source": [
    "### FEATURE SCALING"
   ]
  },
  {
   "cell_type": "code",
   "execution_count": 46,
   "metadata": {},
   "outputs": [
    {
     "data": {
      "text/html": [
       "<div>\n",
       "<style scoped>\n",
       "    .dataframe tbody tr th:only-of-type {\n",
       "        vertical-align: middle;\n",
       "    }\n",
       "\n",
       "    .dataframe tbody tr th {\n",
       "        vertical-align: top;\n",
       "    }\n",
       "\n",
       "    .dataframe thead th {\n",
       "        text-align: right;\n",
       "    }\n",
       "</style>\n",
       "<table border=\"1\" class=\"dataframe\">\n",
       "  <thead>\n",
       "    <tr style=\"text-align: right;\">\n",
       "      <th></th>\n",
       "      <th>age</th>\n",
       "      <th>fnlwgt</th>\n",
       "      <th>education.num</th>\n",
       "      <th>capital.gain</th>\n",
       "      <th>capital.loss</th>\n",
       "      <th>hours.per.week</th>\n",
       "      <th>workclass_enc</th>\n",
       "      <th>occupation_enc</th>\n",
       "      <th>country_enc</th>\n",
       "      <th>sex_enc</th>\n",
       "      <th>marital_status_enc</th>\n",
       "      <th>race_enc</th>\n",
       "      <th>relationship_enc</th>\n",
       "      <th>income</th>\n",
       "    </tr>\n",
       "  </thead>\n",
       "  <tbody>\n",
       "    <tr>\n",
       "      <th>1470</th>\n",
       "      <td>0.616438</td>\n",
       "      <td>0.296903</td>\n",
       "      <td>0.769231</td>\n",
       "      <td>0.0</td>\n",
       "      <td>1.00000</td>\n",
       "      <td>0.464789</td>\n",
       "      <td>0.064279</td>\n",
       "      <td>0.122729</td>\n",
       "      <td>1</td>\n",
       "      <td>0</td>\n",
       "      <td>0.466795</td>\n",
       "      <td>0.856208</td>\n",
       "      <td>0.046715</td>\n",
       "      <td>0</td>\n",
       "    </tr>\n",
       "    <tr>\n",
       "      <th>1471</th>\n",
       "      <td>0.753425</td>\n",
       "      <td>0.265630</td>\n",
       "      <td>1.000000</td>\n",
       "      <td>0.0</td>\n",
       "      <td>1.00000</td>\n",
       "      <td>0.492958</td>\n",
       "      <td>0.064279</td>\n",
       "      <td>0.132365</td>\n",
       "      <td>1</td>\n",
       "      <td>1</td>\n",
       "      <td>0.466795</td>\n",
       "      <td>0.856208</td>\n",
       "      <td>0.413569</td>\n",
       "      <td>0</td>\n",
       "    </tr>\n",
       "    <tr>\n",
       "      <th>1473</th>\n",
       "      <td>0.671233</td>\n",
       "      <td>0.684115</td>\n",
       "      <td>0.538462</td>\n",
       "      <td>0.0</td>\n",
       "      <td>1.00000</td>\n",
       "      <td>0.211268</td>\n",
       "      <td>0.697030</td>\n",
       "      <td>0.051989</td>\n",
       "      <td>1</td>\n",
       "      <td>1</td>\n",
       "      <td>0.466795</td>\n",
       "      <td>0.856208</td>\n",
       "      <td>0.413569</td>\n",
       "      <td>0</td>\n",
       "    </tr>\n",
       "    <tr>\n",
       "      <th>1474</th>\n",
       "      <td>0.219178</td>\n",
       "      <td>0.504404</td>\n",
       "      <td>0.461538</td>\n",
       "      <td>0.0</td>\n",
       "      <td>0.90461</td>\n",
       "      <td>0.492958</td>\n",
       "      <td>0.064279</td>\n",
       "      <td>0.122729</td>\n",
       "      <td>1</td>\n",
       "      <td>0</td>\n",
       "      <td>0.138616</td>\n",
       "      <td>0.856208</td>\n",
       "      <td>0.147308</td>\n",
       "      <td>0</td>\n",
       "    </tr>\n",
       "    <tr>\n",
       "      <th>1475</th>\n",
       "      <td>0.164384</td>\n",
       "      <td>0.252780</td>\n",
       "      <td>0.461538</td>\n",
       "      <td>0.0</td>\n",
       "      <td>0.90461</td>\n",
       "      <td>0.492958</td>\n",
       "      <td>0.697030</td>\n",
       "      <td>0.118823</td>\n",
       "      <td>1</td>\n",
       "      <td>0</td>\n",
       "      <td>0.322677</td>\n",
       "      <td>0.094700</td>\n",
       "      <td>0.106485</td>\n",
       "      <td>0</td>\n",
       "    </tr>\n",
       "    <tr>\n",
       "      <th>...</th>\n",
       "      <td>...</td>\n",
       "      <td>...</td>\n",
       "      <td>...</td>\n",
       "      <td>...</td>\n",
       "      <td>...</td>\n",
       "      <td>...</td>\n",
       "      <td>...</td>\n",
       "      <td>...</td>\n",
       "      <td>...</td>\n",
       "      <td>...</td>\n",
       "      <td>...</td>\n",
       "      <td>...</td>\n",
       "      <td>...</td>\n",
       "      <td>...</td>\n",
       "    </tr>\n",
       "    <tr>\n",
       "      <th>32556</th>\n",
       "      <td>0.068493</td>\n",
       "      <td>0.602146</td>\n",
       "      <td>0.538462</td>\n",
       "      <td>0.0</td>\n",
       "      <td>0.00000</td>\n",
       "      <td>0.492958</td>\n",
       "      <td>0.697030</td>\n",
       "      <td>0.021128</td>\n",
       "      <td>1</td>\n",
       "      <td>1</td>\n",
       "      <td>0.322677</td>\n",
       "      <td>0.856208</td>\n",
       "      <td>0.256039</td>\n",
       "      <td>0</td>\n",
       "    </tr>\n",
       "    <tr>\n",
       "      <th>32557</th>\n",
       "      <td>0.136986</td>\n",
       "      <td>0.494774</td>\n",
       "      <td>0.692308</td>\n",
       "      <td>0.0</td>\n",
       "      <td>0.00000</td>\n",
       "      <td>0.464789</td>\n",
       "      <td>0.697030</td>\n",
       "      <td>0.030210</td>\n",
       "      <td>1</td>\n",
       "      <td>0</td>\n",
       "      <td>0.466795</td>\n",
       "      <td>0.856208</td>\n",
       "      <td>0.046715</td>\n",
       "      <td>0</td>\n",
       "    </tr>\n",
       "    <tr>\n",
       "      <th>32558</th>\n",
       "      <td>0.315068</td>\n",
       "      <td>0.285660</td>\n",
       "      <td>0.461538</td>\n",
       "      <td>0.0</td>\n",
       "      <td>0.00000</td>\n",
       "      <td>0.492958</td>\n",
       "      <td>0.697030</td>\n",
       "      <td>0.065174</td>\n",
       "      <td>1</td>\n",
       "      <td>1</td>\n",
       "      <td>0.466795</td>\n",
       "      <td>0.856208</td>\n",
       "      <td>0.413569</td>\n",
       "      <td>1</td>\n",
       "    </tr>\n",
       "    <tr>\n",
       "      <th>32559</th>\n",
       "      <td>0.561644</td>\n",
       "      <td>0.280654</td>\n",
       "      <td>0.461538</td>\n",
       "      <td>0.0</td>\n",
       "      <td>0.00000</td>\n",
       "      <td>0.492958</td>\n",
       "      <td>0.697030</td>\n",
       "      <td>0.122729</td>\n",
       "      <td>1</td>\n",
       "      <td>0</td>\n",
       "      <td>0.027346</td>\n",
       "      <td>0.856208</td>\n",
       "      <td>0.106485</td>\n",
       "      <td>0</td>\n",
       "    </tr>\n",
       "    <tr>\n",
       "      <th>32560</th>\n",
       "      <td>0.068493</td>\n",
       "      <td>0.381383</td>\n",
       "      <td>0.461538</td>\n",
       "      <td>0.0</td>\n",
       "      <td>0.00000</td>\n",
       "      <td>0.211268</td>\n",
       "      <td>0.697030</td>\n",
       "      <td>0.122729</td>\n",
       "      <td>1</td>\n",
       "      <td>1</td>\n",
       "      <td>0.322677</td>\n",
       "      <td>0.856208</td>\n",
       "      <td>0.147308</td>\n",
       "      <td>0</td>\n",
       "    </tr>\n",
       "  </tbody>\n",
       "</table>\n",
       "<p>28214 rows × 14 columns</p>\n",
       "</div>"
      ],
      "text/plain": [
       "            age    fnlwgt  education.num  capital.gain  capital.loss  \\\n",
       "1470   0.616438  0.296903       0.769231           0.0       1.00000   \n",
       "1471   0.753425  0.265630       1.000000           0.0       1.00000   \n",
       "1473   0.671233  0.684115       0.538462           0.0       1.00000   \n",
       "1474   0.219178  0.504404       0.461538           0.0       0.90461   \n",
       "1475   0.164384  0.252780       0.461538           0.0       0.90461   \n",
       "...         ...       ...            ...           ...           ...   \n",
       "32556  0.068493  0.602146       0.538462           0.0       0.00000   \n",
       "32557  0.136986  0.494774       0.692308           0.0       0.00000   \n",
       "32558  0.315068  0.285660       0.461538           0.0       0.00000   \n",
       "32559  0.561644  0.280654       0.461538           0.0       0.00000   \n",
       "32560  0.068493  0.381383       0.461538           0.0       0.00000   \n",
       "\n",
       "       hours.per.week  workclass_enc  occupation_enc  country_enc  sex_enc  \\\n",
       "1470         0.464789       0.064279        0.122729            1        0   \n",
       "1471         0.492958       0.064279        0.132365            1        1   \n",
       "1473         0.211268       0.697030        0.051989            1        1   \n",
       "1474         0.492958       0.064279        0.122729            1        0   \n",
       "1475         0.492958       0.697030        0.118823            1        0   \n",
       "...               ...            ...             ...          ...      ...   \n",
       "32556        0.492958       0.697030        0.021128            1        1   \n",
       "32557        0.464789       0.697030        0.030210            1        0   \n",
       "32558        0.492958       0.697030        0.065174            1        1   \n",
       "32559        0.492958       0.697030        0.122729            1        0   \n",
       "32560        0.211268       0.697030        0.122729            1        1   \n",
       "\n",
       "       marital_status_enc  race_enc  relationship_enc  income  \n",
       "1470             0.466795  0.856208          0.046715       0  \n",
       "1471             0.466795  0.856208          0.413569       0  \n",
       "1473             0.466795  0.856208          0.413569       0  \n",
       "1474             0.138616  0.856208          0.147308       0  \n",
       "1475             0.322677  0.094700          0.106485       0  \n",
       "...                   ...       ...               ...     ...  \n",
       "32556            0.322677  0.856208          0.256039       0  \n",
       "32557            0.466795  0.856208          0.046715       0  \n",
       "32558            0.466795  0.856208          0.413569       1  \n",
       "32559            0.027346  0.856208          0.106485       0  \n",
       "32560            0.322677  0.856208          0.147308       0  \n",
       "\n",
       "[28214 rows x 14 columns]"
      ]
     },
     "execution_count": 46,
     "metadata": {},
     "output_type": "execute_result"
    }
   ],
   "source": [
    "# to standardize the range of features of data with min-max normalization\n",
    "from sklearn.preprocessing import MinMaxScaler\n",
    "scale = MinMaxScaler()\n",
    "new_df.loc[:,'age':'hours.per.week'] = scale.fit_transform(new_df.loc[:,'age':'hours.per.week'])\n",
    "new_df"
   ]
  },
  {
   "cell_type": "markdown",
   "metadata": {},
   "source": [
    "### SPLITTING THE DATA"
   ]
  },
  {
   "cell_type": "code",
   "execution_count": 47,
   "metadata": {},
   "outputs": [
    {
     "data": {
      "text/plain": [
       "array([[8.20000000e+01, 1.32870000e+05, 9.00000000e+00, ...,\n",
       "        2.73455303e-02, 8.56208086e-01, 2.56038805e-01],\n",
       "       [5.40000000e+01, 1.40359000e+05, 4.00000000e+00, ...,\n",
       "        1.38615795e-01, 8.56208086e-01, 1.06484797e-01],\n",
       "       [4.10000000e+01, 2.64663000e+05, 1.00000000e+01, ...,\n",
       "        3.12194804e-02, 8.56208086e-01, 1.47307767e-01],\n",
       "       ...,\n",
       "       [4.00000000e+01, 1.54374000e+05, 9.00000000e+00, ...,\n",
       "        4.66794713e-01, 8.56208086e-01, 4.13568592e-01],\n",
       "       [5.80000000e+01, 1.51910000e+05, 9.00000000e+00, ...,\n",
       "        2.73455303e-02, 8.56208086e-01, 1.06484797e-01],\n",
       "       [2.20000000e+01, 2.01490000e+05, 9.00000000e+00, ...,\n",
       "        3.22677258e-01, 8.56208086e-01, 1.47307767e-01]])"
      ]
     },
     "execution_count": 47,
     "metadata": {},
     "output_type": "execute_result"
    }
   ],
   "source": [
    "# make x (dataset of the features)\n",
    "x=df.drop('income',axis=1).values \n",
    "x"
   ]
  },
  {
   "cell_type": "code",
   "execution_count": 48,
   "metadata": {},
   "outputs": [
    {
     "data": {
      "text/plain": [
       "array([0, 0, 0, ..., 1, 0, 0], dtype=int64)"
      ]
     },
     "execution_count": 48,
     "metadata": {},
     "output_type": "execute_result"
    }
   ],
   "source": [
    "# make y (dataset of the target)\n",
    "# income column here is the target variable\n",
    "y=df['income'].values\n",
    "y"
   ]
  },
  {
   "cell_type": "code",
   "execution_count": 49,
   "metadata": {},
   "outputs": [],
   "source": [
    "from sklearn.model_selection import train_test_split\n",
    "# 70:30 split \n",
    "x_train,x_test,y_train,y_test=train_test_split(x,y,test_size=0.3,random_state=1)"
   ]
  },
  {
   "cell_type": "markdown",
   "metadata": {},
   "source": [
    "# MODELLING"
   ]
  },
  {
   "cell_type": "markdown",
   "metadata": {},
   "source": [
    "### Logistic Regression"
   ]
  },
  {
   "cell_type": "code",
   "execution_count": 50,
   "metadata": {},
   "outputs": [],
   "source": [
    "from sklearn.linear_model import LogisticRegression\n",
    "\n",
    "reg = LogisticRegression()\n",
    "reg.fit(x_train, y_train)\n",
    "pred_reg = reg.predict(x_test)"
   ]
  },
  {
   "cell_type": "code",
   "execution_count": 51,
   "metadata": {},
   "outputs": [
    {
     "name": "stdout",
     "output_type": "stream",
     "text": [
      "Accuracy Score of Logistic Regression model is 78.97\n"
     ]
    }
   ],
   "source": [
    "from sklearn.metrics import confusion_matrix,accuracy_score\n",
    "\n",
    "# to learn model accuracy\n",
    "print(\"Accuracy Score of Logistic Regression model is\", format((accuracy_score(y_test, pred_reg)*100),\".2f\"))"
   ]
  },
  {
   "cell_type": "code",
   "execution_count": 52,
   "metadata": {},
   "outputs": [
    {
     "data": {
      "text/plain": [
       "array([[6637,  233],\n",
       "       [1705,  641]], dtype=int64)"
      ]
     },
     "execution_count": 52,
     "metadata": {},
     "output_type": "execute_result"
    }
   ],
   "source": [
    "cm_lr=confusion_matrix(y_test, pred_reg)\n",
    "cm_lr"
   ]
  },
  {
   "cell_type": "markdown",
   "metadata": {},
   "source": [
    "### Decision Tree"
   ]
  },
  {
   "cell_type": "code",
   "execution_count": 53,
   "metadata": {},
   "outputs": [],
   "source": [
    "from sklearn.tree import DecisionTreeClassifier,plot_tree  \n",
    "\n",
    "dtc = DecisionTreeClassifier()\n",
    "dtc.fit(x_train, y_train)\n",
    "pred_dtc = dtc.predict(x_test) "
   ]
  },
  {
   "cell_type": "code",
   "execution_count": 54,
   "metadata": {},
   "outputs": [
    {
     "name": "stdout",
     "output_type": "stream",
     "text": [
      "Accuracy Score of Decision Tree Classifier model is 81.00\n"
     ]
    }
   ],
   "source": [
    "# to learn model accuracy\n",
    "print(\"Accuracy Score of Decision Tree Classifier model is\", format(accuracy_score(y_test, pred_dtc)*100, \".2f\"))"
   ]
  },
  {
   "cell_type": "code",
   "execution_count": 55,
   "metadata": {},
   "outputs": [
    {
     "data": {
      "text/plain": [
       "array([[5984,  886],\n",
       "       [ 865, 1481]], dtype=int64)"
      ]
     },
     "execution_count": 55,
     "metadata": {},
     "output_type": "execute_result"
    }
   ],
   "source": [
    "cm_dt=confusion_matrix(y_test, pred_dtc)\n",
    "cm_dt"
   ]
  },
  {
   "cell_type": "markdown",
   "metadata": {},
   "source": [
    "### Random Forest"
   ]
  },
  {
   "cell_type": "code",
   "execution_count": 56,
   "metadata": {},
   "outputs": [],
   "source": [
    "from sklearn.ensemble import RandomForestClassifier\n",
    "\n",
    "rfc = RandomForestClassifier()\n",
    "rfc.fit(x_train, y_train)\n",
    "pred_rfc = rfc.predict(x_test)"
   ]
  },
  {
   "cell_type": "code",
   "execution_count": 57,
   "metadata": {},
   "outputs": [
    {
     "name": "stdout",
     "output_type": "stream",
     "text": [
      "Accuracy Score of Random Forest model is 85.54\n"
     ]
    }
   ],
   "source": [
    "# to learn model accuracy\n",
    "print(\"Accuracy Score of Random Forest model is\", format(accuracy_score(y_test, pred_rfc)*100, \".2f\"))"
   ]
  },
  {
   "cell_type": "code",
   "execution_count": 58,
   "metadata": {},
   "outputs": [
    {
     "data": {
      "text/plain": [
       "array([[6390,  480],\n",
       "       [ 853, 1493]], dtype=int64)"
      ]
     },
     "execution_count": 58,
     "metadata": {},
     "output_type": "execute_result"
    }
   ],
   "source": [
    "cm_rf=confusion_matrix(y_test, pred_rfc)\n",
    "cm_rf"
   ]
  },
  {
   "cell_type": "markdown",
   "metadata": {},
   "source": [
    "### K-Nearest Neighbour"
   ]
  },
  {
   "cell_type": "code",
   "execution_count": 59,
   "metadata": {},
   "outputs": [],
   "source": [
    "from sklearn.neighbors import KNeighborsClassifier\n",
    "\n",
    "knc = KNeighborsClassifier(n_neighbors = 25)\n",
    "knc.fit(x_train, y_train)\n",
    "pred_knc = knc.predict(x_test) "
   ]
  },
  {
   "cell_type": "code",
   "execution_count": 60,
   "metadata": {},
   "outputs": [
    {
     "name": "stdout",
     "output_type": "stream",
     "text": [
      "Accuracy Score of K-Nearest Neighbour Classifier model is 78.95\n"
     ]
    }
   ],
   "source": [
    "# to learn model accuracy\n",
    "print(\"Accuracy Score of K-Nearest Neighbour Classifier model is\", format(accuracy_score(y_test, pred_knc)*100,\".2f\"))"
   ]
  },
  {
   "cell_type": "code",
   "execution_count": 61,
   "metadata": {},
   "outputs": [
    {
     "data": {
      "text/plain": [
       "array([[6814,   56],\n",
       "       [1884,  462]], dtype=int64)"
      ]
     },
     "execution_count": 61,
     "metadata": {},
     "output_type": "execute_result"
    }
   ],
   "source": [
    "cm_knn=confusion_matrix(y_test, pred_knc)\n",
    "cm_knn"
   ]
  },
  {
   "cell_type": "code",
   "execution_count": 62,
   "metadata": {},
   "outputs": [],
   "source": [
    "# to check for which value of k the error will be low and accuracy will be high\n",
    "error=[]\n",
    "for i in range(1,40):\n",
    "    knn=KNeighborsClassifier(n_neighbors=i)\n",
    "    knn.fit(x_train,y_train)\n",
    "    ypred_i=knn.predict(x_test)\n",
    "    error.append(np.mean(ypred_i !=y_test))"
   ]
  },
  {
   "cell_type": "code",
   "execution_count": 63,
   "metadata": {},
   "outputs": [
    {
     "data": {
      "text/plain": [
       "Text(0, 0.5, 'Mean Error')"
      ]
     },
     "execution_count": 63,
     "metadata": {},
     "output_type": "execute_result"
    },
    {
     "data": {
      "image/png": "[encoded data removed]",
      "text/plain": [
       "<Figure size 960x480 with 1 Axes>"
      ]
     },
     "metadata": {},
     "output_type": "display_data"
    }
   ],
   "source": [
    "plt.figure(figsize=(12,6))\n",
    "plt.plot(range(1,40),error,color='red',linestyle='dashed',marker='o',markerfacecolor='blue',markersize=10)\n",
    "plt.xlabel('Kvalue')\n",
    "plt.ylabel('Mean Error')"
   ]
  },
  {
   "cell_type": "markdown",
   "metadata": {},
   "source": [
    "With different Classifiers for modeling we achieved the following accuracies -"
   ]
  },
  {
   "cell_type": "markdown",
   "metadata": {},
   "source": [
    "Logistic Regression : 78.97 %"
   ]
  },
  {
   "cell_type": "markdown",
   "metadata": {},
   "source": [
    "Decision Tree : 81.09 %"
   ]
  },
  {
   "cell_type": "markdown",
   "metadata": {},
   "source": [
    "Random Forest : 85.32 %"
   ]
  },
  {
   "cell_type": "markdown",
   "metadata": {},
   "source": [
    "K-Nearest Neighbour : 78.95 %"
   ]
  },
  {
   "cell_type": "markdown",
   "metadata": {},
   "source": [
    "Therfore, among the above implemented models Random Forest Classifier result is best. "
   ]
  }
 ],
 "metadata": {
  "kernelspec": {
   "display_name": "Python 3",
   "language": "python",
   "name": "python3"
  },
  "language_info": {
   "codemirror_mode": {
    "name": "ipython",
    "version": 3
   },
   "file_extension": ".py",
   "mimetype": "text/x-python",
   "name": "python",
   "nbconvert_exporter": "python",
   "pygments_lexer": "ipython3",
   "version": "3.8.8"
  }
 },
 "nbformat": 4,
 "nbformat_minor": 4
}
